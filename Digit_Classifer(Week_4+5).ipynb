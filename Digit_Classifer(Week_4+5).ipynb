{
 "cells": [
  {
   "cell_type": "markdown",
   "id": "fccab73c-87c9-46c2-8e83-6727ad7fcd8e",
   "metadata": {},
   "source": [
    "<h1 style=\"text-align: center; font-weight: bold;\">Digit Classifier using a 3-Layer CNN</h1>\n"
   ]
  },
  {
   "cell_type": "markdown",
   "id": "e8443a88-fabf-4011-9061-3ecf1cbecefd",
   "metadata": {},
   "source": [
    "<h3><b>Importing Important Libraries</b></h3>\n"
   ]
  },
  {
   "cell_type": "code",
   "execution_count": 20,
   "id": "e635dc34-68cd-4eea-a58e-654589fc6a2a",
   "metadata": {},
   "outputs": [],
   "source": [
    "import numpy as np\n",
    "import matplotlib.pyplot as plt\n",
    "import tensorflow as tf\n",
    "from tensorflow.keras import layers, models\n",
    "from tensorflow import keras"
   ]
  },
  {
   "cell_type": "markdown",
   "id": "4e52f887-ca83-4735-9562-b6028a04bc20",
   "metadata": {},
   "source": [
    "<h3><b>Loading the MNIST Dataset</b></h3>\n"
   ]
  },
  {
   "cell_type": "code",
   "execution_count": 3,
   "id": "9f2bd84f-36e3-4351-8bfb-d3a4102173ae",
   "metadata": {},
   "outputs": [
    {
     "name": "stdout",
     "output_type": "stream",
     "text": [
      "Downloading data from https://storage.googleapis.com/tensorflow/tf-keras-datasets/mnist.npz\n",
      "\u001b[1m11490434/11490434\u001b[0m \u001b[32m━━━━━━━━━━━━━━━━━━━━\u001b[0m\u001b[37m\u001b[0m \u001b[1m12s\u001b[0m 1us/step\n"
     ]
    }
   ],
   "source": [
    "(X_train, y_train), (X_test, y_test) = keras.datasets.mnist.load_data()"
   ]
  },
  {
   "cell_type": "code",
   "execution_count": 17,
   "id": "cc2e266b-8434-4807-bfa7-c92db185b3de",
   "metadata": {},
   "outputs": [
    {
     "name": "stdout",
     "output_type": "stream",
     "text": [
      "(60000, 28, 28, 1)\n",
      "(60000,)\n",
      "(10000, 28, 28, 1)\n",
      "(10000,)\n"
     ]
    }
   ],
   "source": [
    "print(X_train.shape)\n",
    "print(y_train.shape)\n",
    "print(X_test.shape)\n",
    "print(y_test.shape)"
   ]
  },
  {
   "cell_type": "markdown",
   "id": "af1fdb6c-9da4-4648-9b6a-fbf11e59bb1b",
   "metadata": {},
   "source": [
    "<h3><b>Normalizing the Data</b></h3>\n"
   ]
  },
  {
   "cell_type": "code",
   "execution_count": 7,
   "id": "424c6589-d7c4-4f18-b16b-1d44f37bd710",
   "metadata": {},
   "outputs": [],
   "source": [
    "X_train = X_train.astype('float32') / 255.0\n",
    "X_test = X_test.astype('float32') / 255.0"
   ]
  },
  {
   "cell_type": "markdown",
   "id": "ec940436-2a72-4cf6-a44c-444a7fc6ecde",
   "metadata": {},
   "source": [
    "<h3><b>Reshaping the Data</b></h3>\n"
   ]
  },
  {
   "cell_type": "code",
   "execution_count": 25,
   "id": "212a0a6d-1edc-4980-8d9a-376bd46b194d",
   "metadata": {},
   "outputs": [],
   "source": [
    "X_train = X_train.reshape(-1, 28, 28, 1)\n",
    "X_test = X_test.reshape(-1, 28, 28, 1)"
   ]
  },
  {
   "cell_type": "markdown",
   "id": "ce37f23a-a4d0-41ed-b0ec-ef95a8a5e1e2",
   "metadata": {},
   "source": [
    "<h3><b>Building a 3-Layer CNN Model Using TensorFlow Keras</b></h3>\n"
   ]
  },
  {
   "cell_type": "code",
   "execution_count": 10,
   "id": "492817d8-72a5-4421-b1a6-b30e664687bf",
   "metadata": {},
   "outputs": [],
   "source": [
    "model = models.Sequential([\n",
    "    layers.Input(shape=(28, 28, 1)), \n",
    "    layers.Conv2D(32, (3, 3), activation='relu'),\n",
    "    layers.MaxPooling2D((2, 2)),\n",
    "\n",
    "    layers.Conv2D(64, (3, 3), activation='relu'),\n",
    "    layers.MaxPooling2D((2, 2)),\n",
    "\n",
    "    layers.Conv2D(64, (3, 3), activation='relu'),\n",
    "\n",
    "    layers.Flatten(),\n",
    "    layers.Dense(64, activation='relu'),\n",
    "    layers.Dense(10, activation='softmax')\n",
    "])"
   ]
  },
  {
   "cell_type": "markdown",
   "id": "9c743448-d70c-4d37-8e56-f7cd33d46e32",
   "metadata": {},
   "source": [
    "<h3><b>Compiling the Model</b></h3>\n"
   ]
  },
  {
   "cell_type": "code",
   "execution_count": 26,
   "id": "66c8aa64-5835-4b09-8674-b202f0e69199",
   "metadata": {},
   "outputs": [],
   "source": [
    "model.compile(optimizer='adam',\n",
    "              loss='sparse_categorical_crossentropy',\n",
    "              metrics=['accuracy'])"
   ]
  },
  {
   "cell_type": "markdown",
   "id": "5995d32f-63dc-41eb-a883-2ca47a51c307",
   "metadata": {},
   "source": [
    "<h3><b>Training the Model</b></h3>\n"
   ]
  },
  {
   "cell_type": "code",
   "execution_count": 12,
   "id": "772936c0-dcc0-476a-9c4e-add7a84a9144",
   "metadata": {},
   "outputs": [
    {
     "name": "stdout",
     "output_type": "stream",
     "text": [
      "Epoch 1/5\n",
      "\u001b[1m844/844\u001b[0m \u001b[32m━━━━━━━━━━━━━━━━━━━━\u001b[0m\u001b[37m\u001b[0m \u001b[1m33s\u001b[0m 35ms/step - accuracy: 0.8579 - loss: 0.4654 - val_accuracy: 0.9828 - val_loss: 0.0562\n",
      "Epoch 2/5\n",
      "\u001b[1m844/844\u001b[0m \u001b[32m━━━━━━━━━━━━━━━━━━━━\u001b[0m\u001b[37m\u001b[0m \u001b[1m28s\u001b[0m 33ms/step - accuracy: 0.9815 - loss: 0.0566 - val_accuracy: 0.9847 - val_loss: 0.0506\n",
      "Epoch 3/5\n",
      "\u001b[1m844/844\u001b[0m \u001b[32m━━━━━━━━━━━━━━━━━━━━\u001b[0m\u001b[37m\u001b[0m \u001b[1m29s\u001b[0m 34ms/step - accuracy: 0.9898 - loss: 0.0353 - val_accuracy: 0.9883 - val_loss: 0.0432\n",
      "Epoch 4/5\n",
      "\u001b[1m844/844\u001b[0m \u001b[32m━━━━━━━━━━━━━━━━━━━━\u001b[0m\u001b[37m\u001b[0m \u001b[1m30s\u001b[0m 35ms/step - accuracy: 0.9901 - loss: 0.0302 - val_accuracy: 0.9898 - val_loss: 0.0349\n",
      "Epoch 5/5\n",
      "\u001b[1m844/844\u001b[0m \u001b[32m━━━━━━━━━━━━━━━━━━━━\u001b[0m\u001b[37m\u001b[0m \u001b[1m28s\u001b[0m 34ms/step - accuracy: 0.9924 - loss: 0.0234 - val_accuracy: 0.9903 - val_loss: 0.0363\n"
     ]
    },
    {
     "data": {
      "text/plain": [
       "<keras.src.callbacks.history.History at 0x1764987ce00>"
      ]
     },
     "execution_count": 12,
     "metadata": {},
     "output_type": "execute_result"
    }
   ],
   "source": [
    "model.fit(X_train, y_train, epochs=5, batch_size=64, validation_split=0.1)"
   ]
  },
  {
   "cell_type": "markdown",
   "id": "a390945a-f270-4682-96fe-47dfa38d9d81",
   "metadata": {},
   "source": [
    "<h3><b>Evaluating Model Accuracy</b></h3>\n"
   ]
  },
  {
   "cell_type": "code",
   "execution_count": 19,
   "id": "055be3fc-a560-46a8-8ed2-5e8083d68fd4",
   "metadata": {},
   "outputs": [
    {
     "name": "stdout",
     "output_type": "stream",
     "text": [
      "\u001b[1m313/313\u001b[0m \u001b[32m━━━━━━━━━━━━━━━━━━━━\u001b[0m\u001b[37m\u001b[0m \u001b[1m2s\u001b[0m 6ms/step - accuracy: 0.9849 - loss: 0.0437\n",
      "\n",
      "Accuracy of my model is 98.77%\n"
     ]
    }
   ],
   "source": [
    "test_loss, test_accuracy = model.evaluate(X_test, y_test)\n",
    "print(f\"\\nAccuracy of my model is {test_accuracy * 100:.2f}%\")"
   ]
  },
  {
   "cell_type": "markdown",
   "id": "dd43d812-a549-49d4-8ebc-a52b479f8d53",
   "metadata": {},
   "source": [
    "<h3 style=\"text-align: center;\"><b>That's a Digit Classifier using CNN!</b></h3>\n"
   ]
  },
  {
   "cell_type": "code",
   "execution_count": null,
   "id": "b467cae4-4fe6-4b5e-981a-46e529460978",
   "metadata": {},
   "outputs": [],
   "source": []
  }
 ],
 "metadata": {
  "kernelspec": {
   "display_name": "Python 3 (ipykernel)",
   "language": "python",
   "name": "python3"
  },
  "language_info": {
   "codemirror_mode": {
    "name": "ipython",
    "version": 3
   },
   "file_extension": ".py",
   "mimetype": "text/x-python",
   "name": "python",
   "nbconvert_exporter": "python",
   "pygments_lexer": "ipython3",
   "version": "3.12.7"
  }
 },
 "nbformat": 4,
 "nbformat_minor": 5
}
